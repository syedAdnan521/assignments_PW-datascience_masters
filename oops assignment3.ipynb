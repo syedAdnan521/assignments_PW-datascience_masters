{
 "cells": [
  {
   "cell_type": "code",
   "execution_count": 1,
   "id": "ebef347b-14cb-436b-8fc8-e4679a4e1c24",
   "metadata": {},
   "outputs": [],
   "source": [
    "# ANS 1. An abstract class can be considered as a blueprint for other classes. It allows you to create a set of methods that must be created within any child classes built from the abstract class\n",
    "\n",
    "import abc\n",
    "class pwskills:\n",
    "    \n",
    "    @abc.abstractmethod\n",
    "    def student_details():\n",
    "        pass\n",
    "    \n",
    "    @abc.abstractmethod\n",
    "    def student_assignment():\n",
    "        pass\n",
    "    \n",
    "    "
   ]
  },
  {
   "cell_type": "code",
   "execution_count": 2,
   "id": "e54d702d-d9af-4cf3-b75e-e88df5c0b971",
   "metadata": {},
   "outputs": [],
   "source": [
    "class student_details(pwskills):\n",
    "    \n",
    "    def student_details(self):\n",
    "        return \"this is use to taking student details\"\n",
    "    \n",
    "    def student_assignment(self):\n",
    "        return \"this will use to take student assignment\""
   ]
  },
  {
   "cell_type": "code",
   "execution_count": 4,
   "id": "bc4e04cd-2c76-40c3-b7e5-ef27d09a3bc8",
   "metadata": {},
   "outputs": [],
   "source": [
    "details = student_details()"
   ]
  },
  {
   "cell_type": "code",
   "execution_count": 6,
   "id": "fdeb2736-5ed6-43db-b52e-7b84aef26617",
   "metadata": {},
   "outputs": [
    {
     "data": {
      "text/plain": [
       "'this will use to take student assignment'"
      ]
     },
     "execution_count": 6,
     "metadata": {},
     "output_type": "execute_result"
    }
   ],
   "source": [
    "details.student_assignment()"
   ]
  },
  {
   "cell_type": "code",
   "execution_count": 7,
   "id": "19a532ef-ee75-4454-bb47-9cb52bf134da",
   "metadata": {},
   "outputs": [],
   "source": [
    "# ANS 2: Abstraction is the process or method of gaining the information. While encapsulation is the process or method to contain the information."
   ]
  },
  {
   "cell_type": "code",
   "execution_count": 8,
   "id": "04312b65-eec5-4324-b82e-43b528b138de",
   "metadata": {},
   "outputs": [],
   "source": [
    "# encapsulation ; \n",
    "class car:\n",
    "    def __init__(self, year, model ,speed):\n",
    "        self.__year = year\n",
    "        self.__model = model\n",
    "        self.__speed = speed \n",
    "# we can allow user to make some changes , \n",
    "    def set_speed(self, speed):\n",
    "        self.__speed = 0 if speed < 0 else speed\n",
    "    \n",
    "    def get_speed(self):\n",
    "        return self.__speed        "
   ]
  },
  {
   "cell_type": "code",
   "execution_count": 11,
   "id": "92c4188b-dafb-49f2-a3e3-3e4a8f51ac93",
   "metadata": {},
   "outputs": [],
   "source": [
    "c = car(2021 , \"innvoa\" , \"1454\")"
   ]
  },
  {
   "cell_type": "code",
   "execution_count": 13,
   "id": "8dd7e32b-4a46-45a3-b001-128ebd0fff0c",
   "metadata": {},
   "outputs": [],
   "source": [
    "c.set_speed(458)"
   ]
  },
  {
   "cell_type": "code",
   "execution_count": 14,
   "id": "54879aea-f213-479b-8a0a-7527c2cb1d38",
   "metadata": {},
   "outputs": [
    {
     "data": {
      "text/plain": [
       "458"
      ]
     },
     "execution_count": 14,
     "metadata": {},
     "output_type": "execute_result"
    }
   ],
   "source": [
    "c.get_speed()"
   ]
  },
  {
   "cell_type": "code",
   "execution_count": 20,
   "id": "97435823-1579-42be-aabf-fc1fd6be3018",
   "metadata": {},
   "outputs": [],
   "source": [
    "# ANS: abc module is a \"abstract base class\" module use to craft or design abstract classes\n",
    "from abc import ABC, abstractmethod\n",
    "\n",
    "class Parent(ABC):\n",
    "  #common function\n",
    "  def common_fn(self):\n",
    "    print('In the common method of Parent')\n",
    "  @abstractmethod\n",
    "  def abs_fn(self): #is supposed to have different implementation in child classes \n",
    "    pass\n",
    "\n",
    "class Child1(Parent):\n",
    "    \n",
    "    def abs_fn(self):\n",
    "        \n",
    "        print('In the abstract method of Child1')\n",
    "\n",
    "class Child2(Parent):\n",
    "    \n",
    "    def abs_fn(self):\n",
    "        print('In the abstract method of Child2')\n"
   ]
  },
  {
   "cell_type": "code",
   "execution_count": null,
   "id": "74f52e69-ffe0-4767-aad3-1e8c404e6c65",
   "metadata": {},
   "outputs": [],
   "source": []
  }
 ],
 "metadata": {
  "kernelspec": {
   "display_name": "Python 3 (ipykernel)",
   "language": "python",
   "name": "python3"
  },
  "language_info": {
   "codemirror_mode": {
    "name": "ipython",
    "version": 3
   },
   "file_extension": ".py",
   "mimetype": "text/x-python",
   "name": "python",
   "nbconvert_exporter": "python",
   "pygments_lexer": "ipython3",
   "version": "3.10.8"
  }
 },
 "nbformat": 4,
 "nbformat_minor": 5
}
