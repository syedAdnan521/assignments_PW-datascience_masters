{
 "cells": [
  {
   "cell_type": "code",
   "execution_count": 1,
   "id": "531a7936-4a20-45c5-b9ac-f620b7b39738",
   "metadata": {},
   "outputs": [],
   "source": [
    "# multiprocessing: multiprocessing is a process of running multiple process withing single thread \n",
    "# it is used to improve a performance of a program by using multiple CPUs and core "
   ]
  },
  {
   "cell_type": "code",
   "execution_count": null,
   "id": "75311ea1-5195-477c-bda0-32ac7b919c46",
   "metadata": {},
   "outputs": [],
   "source": [
    "#Multithreading runs multiple threads simultaneously within a single process, while multiprocessing runs multiple processes simultaneously within a single thread."
   ]
  },
  {
   "cell_type": "code",
   "execution_count": null,
   "id": "9a2f87c5-c7a7-415d-be59-917b984c53a4",
   "metadata": {},
   "outputs": [],
   "source": [
    "# 3 \n",
    "import multiprocessing \n",
    "def producer(q):\n",
    "    for i in range(10):\n",
    "        q.put(i)\n",
    "        \n",
    "def consumer(q):\n",
    "    while True:\n",
    "        item = q.get()\n",
    "        if item is None:\n",
    "            break\n",
    "        print(item)\n",
    "        \n",
    "if __name__ == \"__main__\":\n",
    "    queue = multiprocessing.Queue()\n",
    "    m1 = multiprocessing.Process(target = producer, args =(queue,))\n",
    "    m2 = multiprocessing.Process(target= consumer, args=(queue,))\n",
    "    m1.start()\n",
    "    m2.start()\n",
    "    queue.put('adnan')\n",
    "    m1.join()\n",
    "    m2.join()\n",
    "    \n",
    "    \n",
    "        \n"
   ]
  },
  {
   "cell_type": "code",
   "execution_count": null,
   "id": "17de21ea-c505-4295-a966-ebb6c023c8f8",
   "metadata": {},
   "outputs": [],
   "source": [
    "# pool : multiprocessing pool in python parallel execution of a function across multiple input values,\n",
    "        # disrtributing the input data across processes. (data parallelism)\n",
    "    "
   ]
  },
  {
   "cell_type": "code",
   "execution_count": 7,
   "id": "e00637fb-54e7-4a31-ab37-26f3e932af56",
   "metadata": {},
   "outputs": [
    {
     "name": "stdout",
     "output_type": "stream",
     "text": [
      "[4, 8, 12, 14, 16, 18, 130, 156, 1718, 103024, 103178, 30978]\n"
     ]
    }
   ],
   "source": [
    "# pool of worker process in multiprocessing \n",
    "import multiprocessing\n",
    "def process_data(number):\n",
    "    result = number * 2 \n",
    "    return result \n",
    "\n",
    "if __name__ == \"__main__\":\n",
    "    num_process = multiprocessing.cpu_count()\n",
    "    pool = multiprocessing.Pool(processes=num_process)\n",
    "    \n",
    "    input_data = [2,4,6,7,8,9,65,78,859,51512,51589,15489]\n",
    "    \n",
    "    output = pool.map(process_data,input_data)\n",
    "    pool.close()\n",
    "    pool.join()\n",
    "    print(output)\n",
    "    \n",
    "    \n",
    "    "
   ]
  },
  {
   "cell_type": "code",
   "execution_count": 8,
   "id": "1417dbc1-b26b-48ea-909d-c7cffd90a5c9",
   "metadata": {},
   "outputs": [
    {
     "name": "stdout",
     "output_type": "stream",
     "text": [
      "Process 0: Printing a different number.\n",
      "Process 1: Printing a different number.\n",
      "Process 2: Printing a different number.\n",
      "Process 3: Printing a different number.\n"
     ]
    }
   ],
   "source": [
    "import multiprocessing\n",
    "\n",
    "def print_number(number):\n",
    "    print(f\"Process {number}: Printing a different number.\")\n",
    "\n",
    "if __name__ == \"__main__\":\n",
    "    processes = []\n",
    "\n",
    "    for i in range(4):\n",
    "        process = multiprocessing.Process(target=print_number, args=(i,))\n",
    "        processes.append(process)\n",
    "        process.start()\n",
    "\n",
    "    for process in processes:\n",
    "        process.join()"
   ]
  },
  {
   "cell_type": "code",
   "execution_count": null,
   "id": "73ba58c4-15fe-4077-9478-438bb0252029",
   "metadata": {},
   "outputs": [],
   "source": []
  }
 ],
 "metadata": {
  "kernelspec": {
   "display_name": "Python 3 (ipykernel)",
   "language": "python",
   "name": "python3"
  },
  "language_info": {
   "codemirror_mode": {
    "name": "ipython",
    "version": 3
   },
   "file_extension": ".py",
   "mimetype": "text/x-python",
   "name": "python",
   "nbconvert_exporter": "python",
   "pygments_lexer": "ipython3",
   "version": "3.10.8"
  }
 },
 "nbformat": 4,
 "nbformat_minor": 5
}
