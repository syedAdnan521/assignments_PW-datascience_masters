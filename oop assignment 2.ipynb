{
 "cells": [
  {
   "cell_type": "code",
   "execution_count": 1,
   "id": "87ed9172-cdf5-4032-ac26-31cc3bad7d05",
   "metadata": {},
   "outputs": [],
   "source": [
    "# QUS: four pillars of oop \n",
    "# 1. inheritence\n",
    "# 2. polymorphism \n",
    "# 3. encapsulation \n",
    "# 4. abstraction  "
   ]
  },
  {
   "cell_type": "code",
   "execution_count": 4,
   "id": "fc824545-e2bc-4b78-9e3f-b21f3b00dce6",
   "metadata": {},
   "outputs": [],
   "source": [
    "# QUS:  __init__ is used  to class  initialize object's attribute\n",
    "\n",
    "class init():\n",
    "     def __init__(self, name,):\n",
    "            self.name = name\n",
    "            \n",
    "     def hello(self):\n",
    "        print(\"hello my name is \", self.name)"
   ]
  },
  {
   "cell_type": "code",
   "execution_count": 9,
   "id": "7a076edc-9e7e-4f10-8c14-52a72584e6ad",
   "metadata": {},
   "outputs": [],
   "source": [
    "nam = init('adnan')"
   ]
  },
  {
   "cell_type": "code",
   "execution_count": 10,
   "id": "fd38cab8-8d74-4083-93a6-5adf8d6b5529",
   "metadata": {},
   "outputs": [
    {
     "name": "stdout",
     "output_type": "stream",
     "text": [
      "hello my name is  adnan\n"
     ]
    }
   ],
   "source": [
    "nam.hello()"
   ]
  },
  {
   "cell_type": "code",
   "execution_count": 11,
   "id": "54932976-c6bb-4ed7-b5eb-8663fbf08e80",
   "metadata": {},
   "outputs": [],
   "source": [
    "# QUS: The keyword self represents the instance of a class and binds the attributes with the given arguments"
   ]
  },
  {
   "cell_type": "code",
   "execution_count": 12,
   "id": "96a11337-17ea-4beb-8204-d38ef7b5d627",
   "metadata": {},
   "outputs": [],
   "source": [
    "# QUS : Inheritence : methods and properties inherit by another class \n",
    "\n",
    "# multilevel inheritene \n",
    "\n",
    "class inherit():\n",
    "    \n",
    "    def first_inherit_class(self):\n",
    "        print(\"this is a first inherit class\")\n"
   ]
  },
  {
   "cell_type": "code",
   "execution_count": 13,
   "id": "cbd509e2-88f0-40c8-acef-67546aff7178",
   "metadata": {},
   "outputs": [],
   "source": [
    "class inherit2(inherit):\n",
    "    \n",
    "    def second_inherit_class(self):\n",
    "        print(\"this is second inherit class\")"
   ]
  },
  {
   "cell_type": "code",
   "execution_count": 15,
   "id": "6cbb1afd-bb51-4271-aff7-ee24067ad880",
   "metadata": {},
   "outputs": [],
   "source": [
    "class inherit3(inherit2):\n",
    "    \n",
    "    def third_inherit_class(self):\n",
    "        print(\"this is a third inherit class\")"
   ]
  },
  {
   "cell_type": "code",
   "execution_count": 16,
   "id": "c46d7389-3d60-4d7a-a90e-75ca1c9cf08b",
   "metadata": {},
   "outputs": [],
   "source": [
    "inherit_class_test = inherit3()"
   ]
  },
  {
   "cell_type": "code",
   "execution_count": 21,
   "id": "e1bbec25-9a72-459a-8b5a-82c5352572b6",
   "metadata": {},
   "outputs": [
    {
     "name": "stdout",
     "output_type": "stream",
     "text": [
      "this is a first inherit class\n"
     ]
    }
   ],
   "source": [
    "inherit_class_test.first_inherit_class()"
   ]
  },
  {
   "cell_type": "code",
   "execution_count": 22,
   "id": "16d06e7d-dbee-4cff-a7c0-8eb81d6199fc",
   "metadata": {},
   "outputs": [],
   "source": [
    "# multiple inheritence \n",
    "class fath_class : \n",
    "    def father_class1(self):\n",
    "        return \"this is father_class \"\n"
   ]
  },
  {
   "cell_type": "code",
   "execution_count": 23,
   "id": "0bf2400b-cf71-4627-9aa3-99f8343631c7",
   "metadata": {},
   "outputs": [],
   "source": [
    "class moth_class : \n",
    "    def moth_class2(self):\n",
    "        return \"this is mother_class \""
   ]
  },
  {
   "cell_type": "code",
   "execution_count": 24,
   "id": "9e3cab39-f897-44a1-abe7-9cbc3127b3e8",
   "metadata": {},
   "outputs": [],
   "source": [
    "class child_class(fath_class, moth_class):\n",
    "    pass"
   ]
  },
  {
   "cell_type": "code",
   "execution_count": 25,
   "id": "b144c9f7-b4f0-49c9-9fd2-dd3ed45520a0",
   "metadata": {},
   "outputs": [],
   "source": [
    "child_class_obj = child_class()"
   ]
  },
  {
   "cell_type": "code",
   "execution_count": 27,
   "id": "42d5ea58-2b11-4351-be90-986454f8b70f",
   "metadata": {},
   "outputs": [
    {
     "data": {
      "text/plain": [
       "'this is father_class '"
      ]
     },
     "execution_count": 27,
     "metadata": {},
     "output_type": "execute_result"
    }
   ],
   "source": [
    "child_class_obj.father_class1()"
   ]
  },
  {
   "cell_type": "code",
   "execution_count": null,
   "id": "f9c2aab9-a547-4a5b-9b57-693f05f43a0a",
   "metadata": {},
   "outputs": [],
   "source": []
  }
 ],
 "metadata": {
  "kernelspec": {
   "display_name": "Python 3 (ipykernel)",
   "language": "python",
   "name": "python3"
  },
  "language_info": {
   "codemirror_mode": {
    "name": "ipython",
    "version": 3
   },
   "file_extension": ".py",
   "mimetype": "text/x-python",
   "name": "python",
   "nbconvert_exporter": "python",
   "pygments_lexer": "ipython3",
   "version": "3.10.8"
  }
 },
 "nbformat": 4,
 "nbformat_minor": 5
}
