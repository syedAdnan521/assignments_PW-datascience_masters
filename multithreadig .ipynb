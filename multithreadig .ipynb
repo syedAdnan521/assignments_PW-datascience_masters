{
 "cells": [
  {
   "cell_type": "code",
   "execution_count": 1,
   "id": "e0a4c30b-484e-4628-bc1c-1c9a988c5fd1",
   "metadata": {},
   "outputs": [],
   "source": [
    "# Multithreading in Python refers to concurrent execution of multiple threads in a single process.\n",
    "\n",
    "# It is used to improve performance and responsiveness for certain tasks, especially I/O-bound operations.\n",
    "# Allows concurrent handling of multiple tasks.\n",
    "# Useful for GUI applications and asynchronous programming.\n",
    "\n",
    "\n",
    "# The module used to handle threads in Python is the threading module.\n",
    "# import thread"
   ]
  },
  {
   "cell_type": "code",
   "execution_count": 2,
   "id": "0660a902-57da-4ea9-a6e6-172d0faf9b2a",
   "metadata": {},
   "outputs": [],
   "source": [
    "# ans 2  : \n",
    "# activeCount() function:\n",
    "\n",
    "# It returns the number of Thread objects currently alive.\n",
    "# Useful for monitoring the number of active threads in a program.\n",
    "\n",
    "# currentThread() function:\n",
    "# It returns the current Thread object corresponding to the calling thread.\n",
    "# Useful for identifying the thread in which the function is being executed.\n",
    "\n",
    "# enumerate() function:\n",
    "\n",
    "# It returns a list of all Thread objects currently alive.\n",
    "# Useful for obtaining a list of active threads in the program for further processing or monitoring.\n",
    "\n"
   ]
  },
  {
   "cell_type": "code",
   "execution_count": 3,
   "id": "fe1e59bc-9a1d-47ef-b925-773d138408fd",
   "metadata": {},
   "outputs": [],
   "source": [
    "# run() method:\n",
    "# The run() method is the entry point for the thread's activity.\n",
    "# It is called automatically when the start() method is invoked on a thread object.\n",
    "# You can subclass the Thread class and override the run() method to define the actions the thread should perform.\n",
    "# start() method:\n",
    "# The start() method is used to initiate the execution of a thread.\n",
    "# It creates a new operating system thread and calls the run() method of the thread.\n",
    "# Once started, the thread runs independently and concurrently with other threads.\n",
    "# join() method:\n",
    "# The join() method is used to wait for a thread to complete its execution.\n",
    "# It blocks the calling thread until the target thread finishes its task or until a specified timeout (optional argument) is reached.\n",
    "# join() is often used to synchronize threads and ensure that certain operations are performed only after a thread has finished its work.\n",
    "# isAlive() method:\n",
    "# The isAlive() method checks if a thread is still running.\n",
    "# It returns True if the thread is active (running), and False if it has completed its task or has not yet started.\n",
    "# This method is helpful to monitor the status of a thread and take appropriate actions based on its execution state."
   ]
  },
  {
   "cell_type": "code",
   "execution_count": 4,
   "id": "853f8fbb-6481-43ff-9a2b-2fe18a3087a9",
   "metadata": {},
   "outputs": [],
   "source": [
    "\n",
    "# Deadlocks:\n",
    "# Deadlocks occur when two or more threads are unable to proceed with their tasks because each is waiting for the other to release a resource.\n",
    "# It results in a situation where the threads are effectively stuck and cannot make any progress, leading to a system-wide halt.\n",
    "\n",
    "# Race Conditions:\n",
    "\n",
    "# Race conditions occur when multiple threads access shared resources or variables simultaneously.\n",
    "# The final outcome becomes unpredictable because the threads' execution order determines the result, and the outcome may vary each time the program runs.\n",
    "# In both cases, proper synchronization mechanisms (such as locks, semaphores, or mutexes) are required to prevent deadlocks and race conditions and ensure correct and predictable behavior in multithreaded applications."
   ]
  },
  {
   "cell_type": "code",
   "execution_count": 5,
   "id": "d337791b-3ba8-40ca-a84b-606bdebdc581",
   "metadata": {},
   "outputs": [],
   "source": [
    "# Advantages of Multithreading:\n",
    "\n",
    "# Improved responsiveness by allowing concurrent execution of tasks.\n",
    "# Efficient resource utilization with shared memory space.\n",
    "# Simplified communication between threads in the same process.\n",
    "# Quick task switching for better performance.\n",
    "\n",
    "# Disadvantages of Multithreading:\n",
    "# Potential for deadlocks and race conditions.\n",
    "# Difficult debugging and testing.\n",
    "# Performance trade-offs for CPU-bound tasks.\n",
    "# Portability and scalability concerns."
   ]
  },
  {
   "cell_type": "code",
   "execution_count": 41,
   "id": "4f513a10-1a79-4618-9d9c-77d50cac960c",
   "metadata": {},
   "outputs": [
    {
     "name": "stdout",
     "output_type": "stream",
     "text": [
      "list of squares: [4, 9, 16, 25, 36, 49, 64, 81]\n",
      "list of cubes: [8, 27, 64, 125, 216, 343, 512, 729]\n"
     ]
    }
   ],
   "source": [
    "import threading\n",
    "\n",
    "def calculate_square(numbers):\n",
    "    square = [num **2 for num in numbers]\n",
    "    print('list of squares:', square)\n",
    "\n",
    "def calculate_cube(numbers):\n",
    "    cubes = [num **3 for num in numbers]\n",
    "    print(\"list of cubes:\", cubes)\n",
    "\n",
    "number_list = [2,3,4,5,6,7,8,9]\n",
    "\n",
    "thread1 = threading.Thread(target=calculate_square, args=(number_list,))\n",
    "thread2 = threading.Thread(target=calculate_cube, args=(number_list,))\n",
    "\n",
    "thread1.start()\n",
    "thread2.start()\n",
    "\n",
    "thread1.join()\n",
    "thread2.join()\n",
    "\n"
   ]
  },
  {
   "cell_type": "code",
   "execution_count": 46,
   "id": "a9d1b01b-99a0-4806-ab91-548843227274",
   "metadata": {},
   "outputs": [
    {
     "name": "stdout",
     "output_type": "stream",
     "text": [
      "list of squares: 100\n",
      "list of squares: 25\n",
      "list of squares: 64\n"
     ]
    }
   ],
   "source": [
    "def calculate_square(numbers):\n",
    "    for num in numbers:\n",
    "        square = num **2\n",
    "        print('list of squares:', square)\n",
    "        \n",
    "calculate_square([10,5,8]) "
   ]
  },
  {
   "cell_type": "code",
   "execution_count": null,
   "id": "21669a7d-c4dc-4edf-933d-fe528edbe290",
   "metadata": {},
   "outputs": [],
   "source": []
  }
 ],
 "metadata": {
  "kernelspec": {
   "display_name": "Python 3 (ipykernel)",
   "language": "python",
   "name": "python3"
  },
  "language_info": {
   "codemirror_mode": {
    "name": "ipython",
    "version": 3
   },
   "file_extension": ".py",
   "mimetype": "text/x-python",
   "name": "python",
   "nbconvert_exporter": "python",
   "pygments_lexer": "ipython3",
   "version": "3.10.8"
  }
 },
 "nbformat": 4,
 "nbformat_minor": 5
}
