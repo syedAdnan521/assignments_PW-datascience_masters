{
 "cells": [
  {
   "cell_type": "code",
   "execution_count": null,
   "id": "5f49cfc6-b998-4ee7-aecd-da616b6f6103",
   "metadata": {},
   "outputs": [],
   "source": [
    "# Qus. 1 : Exception is a superclass in python use to handle error . \n",
    " difference between syntax error and exception is that syntax errors are typing mistakes for example forget to plce colon after \"if statement\",\n",
    " where as exceptions are logical errors , that can be handle "
   ]
  },
  {
   "cell_type": "code",
   "execution_count": null,
   "id": "93e51dde-b383-4b5c-9019-596195c6648a",
   "metadata": {},
   "outputs": [],
   "source": [
    "Ans 2 : when expection is not handled it throughs an error , and stop code compilation "
   ]
  },
  {
   "cell_type": "code",
   "execution_count": 3,
   "id": "25efe467-e33c-49be-9a23-446609689037",
   "metadata": {},
   "outputs": [
    {
     "ename": "ZeroDivisionError",
     "evalue": "division by zero",
     "output_type": "error",
     "traceback": [
      "\u001b[0;31m---------------------------------------------------------------------------\u001b[0m",
      "\u001b[0;31mZeroDivisionError\u001b[0m                         Traceback (most recent call last)",
      "Cell \u001b[0;32mIn[3], line 2\u001b[0m\n\u001b[1;32m      1\u001b[0m \u001b[38;5;66;03m# example : \u001b[39;00m\n\u001b[0;32m----> 2\u001b[0m a \u001b[38;5;241m=\u001b[39m \u001b[38;5;241;43m10\u001b[39;49m\u001b[43m \u001b[49m\u001b[38;5;241;43m/\u001b[39;49m\u001b[43m \u001b[49m\u001b[38;5;241;43m0\u001b[39;49m \n\u001b[1;32m      3\u001b[0m \u001b[38;5;28mprint\u001b[39m(a)\n\u001b[1;32m      5\u001b[0m b \u001b[38;5;241m=\u001b[39m \u001b[38;5;241m10\u001b[39m \u001b[38;5;241m+\u001b[39m \u001b[38;5;241m2\u001b[39m \n",
      "\u001b[0;31mZeroDivisionError\u001b[0m: division by zero"
     ]
    }
   ],
   "source": [
    "# example : \n",
    "a = 10 / 0 \n",
    "print(a)\n",
    "\n",
    "b = 10 + 2 \n",
    "\n",
    "#as we can see error has occurd which stops further compilation"
   ]
  },
  {
   "cell_type": "code",
   "execution_count": null,
   "id": "9662e022-5b53-4bf4-8d61-52bbd4b039a2",
   "metadata": {},
   "outputs": [],
   "source": [
    "Ans 3 : \n",
    "    try and except are use to handle exception in python "
   ]
  },
  {
   "cell_type": "code",
   "execution_count": 15,
   "id": "e7341ce2-9523-422d-b5ed-18c65fd7342f",
   "metadata": {},
   "outputs": [
    {
     "name": "stdout",
     "output_type": "stream",
     "text": [
      "division by zero\n",
      "12\n"
     ]
    }
   ],
   "source": [
    "# example \n",
    "try : \n",
    "    a = 10 / 0\n",
    "except ZeroDivisionError as e : \n",
    "    print(e)\n",
    "finally :    \n",
    "    b = 10 + 2 \n",
    "    print(b)"
   ]
  },
  {
   "cell_type": "code",
   "execution_count": 9,
   "id": "a47f106f-da3b-4a5b-807e-23c4c68df256",
   "metadata": {},
   "outputs": [
    {
     "name": "stdout",
     "output_type": "stream",
     "text": [
      "your ans is : 1\n",
      "sorry you are dividing by zero\n"
     ]
    }
   ],
   "source": [
    "# Ans 4: try and else \n",
    "def divide(x,y):\n",
    "    try :\n",
    "        result = x//y \n",
    "            \n",
    "    except ZeroDivisionError as e :\n",
    "                print('sorry you are dividing by zero')\n",
    "    else :\n",
    "                print(f\"your ans is :\" , result)\n",
    "            \n",
    "divide(3,2)\n",
    "divide(3,0)        "
   ]
  },
  {
   "cell_type": "code",
   "execution_count": 10,
   "id": "00342162-a2e4-4aed-8a5a-602ce21570a7",
   "metadata": {},
   "outputs": [
    {
     "name": "stdout",
     "output_type": "stream",
     "text": [
      "your ans is : 1\n",
      "this block is always execute regardless of try block exceute or not \n",
      "sorry you are dividing by zero\n",
      "this block is always execute regardless of try block exceute or not \n"
     ]
    }
   ],
   "source": [
    "# FINALLY \n",
    "def divide(x,y):\n",
    "    try :\n",
    "        result = x//y \n",
    "            \n",
    "    except ZeroDivisionError as e :\n",
    "                print('sorry you are dividing by zero')\n",
    "    else :\n",
    "                print(f\"your ans is :\" , result)\n",
    "    finally:\n",
    "        print('this block is always execute regardless of try block exceute or not ')\n",
    "        \n",
    "divide(3,2)\n",
    "divide(3,0)        "
   ]
  },
  {
   "cell_type": "code",
   "execution_count": 74,
   "id": "fb2500b3-b385-4f5e-8078-84b02c1b4ac9",
   "metadata": {},
   "outputs": [],
   "source": [
    "# raise : it is use to raise an error or exception when condition is not fullfilled \n",
    "\n",
    "def div(n):\n",
    "    \n",
    "    if n % 2 != 0 :\n",
    "        raise ValueError(\"odd integers  are not allowed !\")\n",
    "    else :\n",
    "        print(\"number is divisble by 2 , ans:\", n // 2 )"
   ]
  },
  {
   "cell_type": "code",
   "execution_count": 75,
   "id": "0ce0beb5-d8b8-4be7-9ac9-771a44e4285c",
   "metadata": {},
   "outputs": [
    {
     "name": "stdin",
     "output_type": "stream",
     "text": [
      "enter number divisible by 2 15\n"
     ]
    },
    {
     "name": "stdout",
     "output_type": "stream",
     "text": [
      "odd integers  are not allowed !\n"
     ]
    }
   ],
   "source": [
    "try : \n",
    "    n = int(input(\"enter number divisible by 2\"))    \n",
    "    div(n)\n",
    "    \n",
    "except Exception as e :\n",
    "    print(e)"
   ]
  },
  {
   "cell_type": "code",
   "execution_count": 76,
   "id": "852a2f06-ed1a-47d9-977b-22c92ef4f2a3",
   "metadata": {},
   "outputs": [],
   "source": [
    "# Ans 5 : custom exception classes are use to customize our own error , to create or through an error made by our own "
   ]
  },
  {
   "cell_type": "code",
   "execution_count": 83,
   "id": "5e4e6109-0221-4b6a-b94c-0788b1c623ba",
   "metadata": {},
   "outputs": [],
   "source": [
    "# ans 6 : \n",
    "class affordablity_macbook(Exception):\n",
    "    \n",
    "    def __init__(self, message):\n",
    "        self.message = message\n",
    "    "
   ]
  },
  {
   "cell_type": "code",
   "execution_count": 102,
   "id": "ba15a762-3603-45cf-9be2-fb9353b86509",
   "metadata": {},
   "outputs": [],
   "source": [
    "def check_affordable_mackbook(budget):\n",
    "    if budget >= 250000 :\n",
    "        print(\"conradulations, you can buy Macbook pro 15 inch with M2 chip!!\")\n",
    "    elif budget >= 150000 :\n",
    "        raise affordablity_macbook(\"unfortunately, you can not buy 15 inch Mackbook Pro , but you have another options\")\n",
    "        \n",
    "    elif budget >= 60000 :\n",
    "        raise affordablity_macbook(\"you can buy mackbook air at EMI\")\n",
    "        \n",
    "    else :\n",
    "        raise affordablity_macbook(\"you are fucking gareeb! go buy some fucking local laptop you filthy pieace of shit\")"
   ]
  },
  {
   "cell_type": "code",
   "execution_count": 104,
   "id": "5752b0a3-a704-41ad-92b5-e1c76ee4f0f1",
   "metadata": {},
   "outputs": [
    {
     "name": "stdin",
     "output_type": "stream",
     "text": [
      "please enter your budeget to check which macbook suits for you 60000\n"
     ]
    },
    {
     "name": "stdout",
     "output_type": "stream",
     "text": [
      "you can buy mackbook air at EMI\n"
     ]
    }
   ],
   "source": [
    "try :\n",
    "    budget = int(input(\"please enter your budeget to check which macbook suits for you\"))\n",
    "    check_affordable_mackbook(budget)\n",
    "    \n",
    "except affordablity_macbook as e :\n",
    "    print(e)\n",
    "    \n",
    "    "
   ]
  },
  {
   "cell_type": "code",
   "execution_count": null,
   "id": "6f406605-0122-435a-89ce-677f2e19edae",
   "metadata": {},
   "outputs": [],
   "source": []
  }
 ],
 "metadata": {
  "kernelspec": {
   "display_name": "Python 3 (ipykernel)",
   "language": "python",
   "name": "python3"
  },
  "language_info": {
   "codemirror_mode": {
    "name": "ipython",
    "version": 3
   },
   "file_extension": ".py",
   "mimetype": "text/x-python",
   "name": "python",
   "nbconvert_exporter": "python",
   "pygments_lexer": "ipython3",
   "version": "3.10.8"
  }
 },
 "nbformat": 4,
 "nbformat_minor": 5
}
